{
 "cells": [
  {
   "cell_type": "markdown",
   "metadata": {},
   "source": [
    "# Plan\n",
    "\n",
    "1. Run local LLMs with Langchain\n",
    "2. Local agents <-\n",
    "3. Orchestrate multiple agents: CrewAI"
   ]
  },
  {
   "cell_type": "markdown",
   "metadata": {},
   "source": [
    "# 2.Local agents with Langchain"
   ]
  },
  {
   "cell_type": "markdown",
   "metadata": {},
   "source": [
    "#### What's an agent? \n",
    "\n",
    "\n",
    "From `Langchain`: the core idea of agents is to use a language model to _choose a sequence of actions_ to take. \n",
    "- In chains, a sequence of actions is hardcoded (in code)\n",
    "- In agents, a language model determines which actions to take and in which order\n",
    "\n",
    "Basically:\n",
    "- autonomous `LLM` + `tools`"
   ]
  },
  {
   "cell_type": "markdown",
   "metadata": {},
   "source": [
    "## Set LLM model"
   ]
  },
  {
   "cell_type": "code",
   "execution_count": 1,
   "metadata": {},
   "outputs": [],
   "source": [
    "# %pip install --quiet google-api-python-client\n",
    "# %pip install --quiet  duckduckgo-search\n",
    "# %pip install --quiet  wikipedia"
   ]
  },
  {
   "cell_type": "code",
   "execution_count": 2,
   "metadata": {},
   "outputs": [],
   "source": [
    "import os\n",
    "from dotenv import load_dotenv, find_dotenv\n",
    "\n",
    "from langchain.callbacks.manager import CallbackManager\n",
    "from langchain.callbacks.streaming_stdout import StreamingStdOutCallbackHandler\n",
    "from langchain.prompts import PromptTemplate\n",
    "from langchain import hub\n",
    "\n",
    "from langchain_community.llms import GPT4All\n",
    "from langchain_community.llms import Ollama\n",
    "from langchain_community.chat_models import ChatOllama\n",
    "from langchain_openai import OpenAI\n",
    "\n",
    "from langchain.agents import AgentExecutor, create_react_agent\n",
    "from langchain.agents import load_tools\n",
    "from langchain.agents import Tool"
   ]
  },
  {
   "cell_type": "code",
   "execution_count": 3,
   "metadata": {},
   "outputs": [],
   "source": [
    "# load api key from .env\n",
    "load_dotenv('./.env', override=True)\n",
    "\n",
    "sid = os.getenv(\"GOOGLE_CSE_ID\")\n",
    "google_api_key = os.getenv(\"GOOGLE_API_KEY\")\n",
    "openai_api_key = os.getenv(\"OPENAI_API_KEY\")\n",
    "\n",
    "# set path to local models\n",
    "wizard = \"./models/wizardlm-13b-v1.2.Q4_0.gguf\"\n",
    "mistral = \"./models/mistral-7b-instruct-v0.1.Q4_0.gguf\""
   ]
  },
  {
   "cell_type": "code",
   "execution_count": 4,
   "metadata": {},
   "outputs": [],
   "source": [
    "# function to set a llm model\n",
    "\n",
    "def set_llm(llm=None, model=None):\n",
    "  '''choose a platform and a model to use as the llm agent'''\n",
    "  \n",
    "  if llm == 'openai':\n",
    "    return OpenAI(temperature=0.2, openai_api_key=openai_api_key)\n",
    "  \n",
    "  elif llm == 'gpt4all':\n",
    "    return GPT4All(\n",
    "      model=model, \n",
    "      callbacks=[StreamingStdOutCallbackHandler()], \n",
    "      verbose=True\n",
    "    )\n",
    "    \n",
    "  elif llm == 'ollama':\n",
    "    return ChatOllama(\n",
    "      model=model,\n",
    "      callback_manager=CallbackManager([StreamingStdOutCallbackHandler()])\n",
    "    )\n",
    "  \n",
    "  else:\n",
    "    return None\n",
    "    print (f\"platform/model not found: {llm}/{model}\")\n",
    "    \n",
    "  print (f\"llm is set to {llm} with model {model}\")\n"
   ]
  },
  {
   "cell_type": "code",
   "execution_count": 5,
   "metadata": {},
   "outputs": [],
   "source": [
    "## choose a models as agent: use function above\n",
    "\n",
    "# # openai\n",
    "# llm = OpenAI(temperature=0.2, openai_api_key=openai_api_key)\n",
    "\n",
    "# # gpt4all\n",
    "# local_path = (\"./models/wizardlm-13b-v1.2.Q4_0.gguf\")\n",
    "# llm = GPT4All(\n",
    "#   model=local_path, \n",
    "#   callbacks=[StreamingStdOutCallbackHandler()], \n",
    "#   verbose=True\n",
    "# )\n",
    "\n",
    "# # ollama\n",
    "# llm = ChatOllama(\n",
    "#   model=\"llama2\",\n",
    "#   callback_manager=CallbackManager([StreamingStdOutCallbackHandler()])\n",
    "# )"
   ]
  },
  {
   "cell_type": "code",
   "execution_count": 6,
   "metadata": {},
   "outputs": [],
   "source": [
    "# set the llm\n",
    "llm = set_llm(llm='gpt4all', model=wizard)\n",
    "# llm = set_llm(llm='ollama', model='llama2')\n",
    "# llm = set_llm(llm='openai')"
   ]
  },
  {
   "cell_type": "markdown",
   "metadata": {},
   "source": [
    "## Search tools\n",
    "\n",
    "To be effective, the base model of the LLM should be trained on tasks related to the tools (code, math, APIs).\n",
    "\n",
    "Some other toolset: maths, code, query data, Gsuite, etc."
   ]
  },
  {
   "cell_type": "code",
   "execution_count": 7,
   "metadata": {},
   "outputs": [],
   "source": [
    "from langchain.utilities import GoogleSearchAPIWrapper\n",
    "from langchain_community.tools import DuckDuckGoSearchRun\n",
    "from langchain.tools import WikipediaQueryRun\n",
    "from langchain_community.utilities import WikipediaAPIWrapper\n",
    "\n",
    "## define tools to use, can build custom tools\n",
    "\n",
    "# google search\n",
    "google = GoogleSearchAPIWrapper(google_api_key=google_api_key, google_cse_id=sid)\n",
    "search_gg = Tool(\n",
    "    name=\"search google\",\n",
    "    description=\"Search Google for up to date results\",\n",
    "    func=google.run\n",
    ")\n",
    "\n",
    "# duckduckgo search\n",
    "duck = DuckDuckGoSearchRun()\n",
    "search_duck = Tool(\n",
    "    name=\"search duckduckgo\",\n",
    "    description=\"Search DuckDuckGo for recent information\",\n",
    "    func=duck.run\n",
    ")\n",
    "\n",
    "# wikipedia search\n",
    "wikipedia = WikipediaQueryRun(api_wrapper=WikipediaAPIWrapper(top_k_results=1, doc_content_chars_max=1000))\n",
    "search_wiki = Tool(\n",
    "    name=\"search wikipedia\",\n",
    "    description=\"Search Wikipedia articles for grounded facts and concepts\",\n",
    "    func=wikipedia.run\n",
    ")\n",
    "\n",
    "## create a list of tools: need larger/better models to handle multiple tools\n",
    "\n",
    "# tools = [search_gg, search_duck, search_wiki]\n",
    "tools = [search_wiki] "
   ]
  },
  {
   "cell_type": "code",
   "execution_count": 8,
   "metadata": {},
   "outputs": [],
   "source": [
    "# get prompt template\n",
    "prompt = hub.pull(\"hwchase17/react\") # can customize prompt here\n",
    "\n",
    "# Construct the agent: ReactAgent is the easiest one with local LLMs\n",
    "agent = create_react_agent(llm, tools, prompt)\n",
    "\n",
    "# Set agent executor: control how agents interact with tools\n",
    "agent_executor = AgentExecutor(\n",
    "  agent=agent, \n",
    "  tools=tools, \n",
    "  verbose=True, \n",
    "  handle_parsing_errors=True,\n",
    "  max_iterations=6 # max number of calls\n",
    ")"
   ]
  },
  {
   "cell_type": "code",
   "execution_count": 9,
   "metadata": {},
   "outputs": [
    {
     "name": "stdout",
     "output_type": "stream",
     "text": [
      "\n",
      "\n",
      "\u001b[1m> Entering new AgentExecutor chain...\u001b[0m\n",
      "\u001b[32;1m\u001b[1;3m I should search for a list of countries by GDP per capita\n",
      "Action: search wikipedia\n",
      "Action Input: List of countries by GDP (nominal) per capita\u001b[0m\u001b[36;1m\u001b[1;3mPage: List of countries by GDP (nominal) per capita\n",
      "Summary: The figures presented here do not take into account differences in the cost of living in different countries, and the results vary greatly from one year to another based on fluctuations in the exchange rates of the country's currency. Such fluctuations change a country's ranking from one year to the next, even though they often make little or no difference to the standard of living of its population.\n",
      "GDP per capita is often considered an indicator of a country's standard of living; however, this is inaccurate because GDP per capita is not a measure of personal income.\n",
      "Comparisons of national income are also frequently made on the basis of purchasing power parity (PPP), to adjust for differences in the cost of living in different countries. (see List of countries by GDP (PPP) per capita). PPP largely removes the exchange rate problem but not others; it does not reflect the value of economic output in international trade, and i\u001b[0m\u001b[32;1m\u001b[1;3mI should search for a list of countries by GDP (PPP) per capita\n",
      "Action: search wikipedia\n",
      "Action Input: List of countries by GDP (PPP) per capita\u001b[0m\u001b[36;1m\u001b[1;3mPage: List of countries by GDP (PPP) per capita\n",
      "Summary: A country's gross domestic product (GDP) at purchasing power parity (PPP) per capita is the PPP value of all final goods and services produced within an economy in a given year, divided by the average (or mid-year) population for the same year. This is similar to nominal GDP per capita but adjusted for the cost of living in each country.\n",
      "In 2019, the estimated average GDP per capita (PPP) of all of the countries of the world was Int$ 18,381. For rankings regarding wealth, see list of countries by wealth per adult.\u001b[0m\u001b[32;1m\u001b[1;3mI now know the final answer\n",
      "Final Answer: According to the list of countries by GDP (PPP) per capita, the smallest richest country in the world is currently Qatar with a GDP (PPP) per capita of Int$ 138,910 in 2019.\u001b[0m\n",
      "\n",
      "\u001b[1m> Finished chain.\u001b[0m\n"
     ]
    },
    {
     "data": {
      "text/plain": [
       "{'input': 'Which country is the smallest richest country in the world?',\n",
       " 'output': 'According to the list of countries by GDP (PPP) per capita, the smallest richest country in the world is currently Qatar with a GDP (PPP) per capita of Int$ 138,910 in 2019.'}"
      ]
     },
     "execution_count": 9,
     "metadata": {},
     "output_type": "execute_result"
    }
   ],
   "source": [
    "# tricky question\n",
    "agent_executor.invoke({\"input\": \"Which country is the smallest richest country in the world?\"})"
   ]
  }
 ],
 "metadata": {
  "celltoolbar": "Slideshow",
  "kernelspec": {
   "display_name": "crew-test",
   "language": "python",
   "name": "python3"
  },
  "language_info": {
   "codemirror_mode": {
    "name": "ipython",
    "version": 3
   },
   "file_extension": ".py",
   "mimetype": "text/x-python",
   "name": "python",
   "nbconvert_exporter": "python",
   "pygments_lexer": "ipython3",
   "version": "3.12.2"
  },
  "varInspector": {
   "cols": {
    "lenName": 16,
    "lenType": 16,
    "lenVar": 40
   },
   "kernels_config": {
    "python": {
     "delete_cmd_postfix": "",
     "delete_cmd_prefix": "del ",
     "library": "var_list.py",
     "varRefreshCmd": "print(var_dic_list())"
    },
    "r": {
     "delete_cmd_postfix": ") ",
     "delete_cmd_prefix": "rm(",
     "library": "var_list.r",
     "varRefreshCmd": "cat(var_dic_list()) "
    }
   },
   "types_to_exclude": [
    "module",
    "function",
    "builtin_function_or_method",
    "instance",
    "_Feature"
   ],
   "window_display": false
  }
 },
 "nbformat": 4,
 "nbformat_minor": 2
}
