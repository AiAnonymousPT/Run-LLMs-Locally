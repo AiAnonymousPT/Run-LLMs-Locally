{
 "cells": [
  {
   "cell_type": "markdown",
   "metadata": {},
   "source": [
    "# Plan\n",
    "\n",
    "1. Run local LLMs with Langchain\n",
    "2. Simple local agents\n",
    "3. Orchestrate multiple agents: CrewAI <-"
   ]
  },
  {
   "cell_type": "code",
   "execution_count": 1,
   "metadata": {},
   "outputs": [],
   "source": [
    "# %pip install --upgrade crewai\n",
    "# %pip install --upgrade 'crewai[tools]'"
   ]
  },
  {
   "cell_type": "markdown",
   "metadata": {},
   "source": [
    "# 3. Multiple Agents with CrewAI"
   ]
  },
  {
   "cell_type": "markdown",
   "metadata": {},
   "source": [
    "Using `Langchain` for multiple agents is good, with low-level control. However, it's mainly designed for OpenAI models (with tools).\n",
    "\n",
    "We're gonna use `crewai` for multiple agents orchestration.\n",
    "\n",
    "Our goal: market research, generate business plan for a new startup!\n",
    "\n",
    "> Generative AI in finalcial services?"
   ]
  },
  {
   "cell_type": "code",
   "execution_count": 2,
   "metadata": {},
   "outputs": [],
   "source": [
    "import os\n",
    "from dotenv import load_dotenv, find_dotenv\n",
    "\n",
    "from langchain.agents import load_tools\n",
    "from langchain.agents import Tool\n",
    "\n",
    "from langchain.llms import Ollama\n",
    "from langchain_community.llms import GPT4All\n",
    "from langchain.callbacks.streaming_stdout import StreamingStdOutCallbackHandler\n",
    "\n",
    "from crewai import Agent, Task, Process, Crew\n",
    "\n",
    "# load api key from .env\n",
    "load_dotenv('./.env', override=True)\n",
    "\n",
    "sid = os.getenv(\"GOOGLE_CSE_ID\")\n",
    "google_api_key = os.getenv(\"GOOGLE_API_KEY\")\n",
    "openai_api_key = os.getenv(\"OPENAI_API_KEY\")"
   ]
  },
  {
   "cell_type": "code",
   "execution_count": 3,
   "metadata": {},
   "outputs": [],
   "source": [
    "# load GPT-4\n",
    "api = openai_api_key\n",
    "\n",
    "# load local model \n",
    "\n",
    "wizard = \"./models/wizardlm-13b-v1.2.Q4_0.gguf\"\n",
    "\n",
    "local_llm = GPT4All(\n",
    "  model=wizard, \n",
    "  callbacks=[StreamingStdOutCallbackHandler()], \n",
    "  verbose=True\n",
    ")"
   ]
  },
  {
   "cell_type": "code",
   "execution_count": 4,
   "metadata": {},
   "outputs": [],
   "source": [
    "from langchain.utilities import GoogleSearchAPIWrapper\n",
    "from langchain.tools import WikipediaQueryRun\n",
    "from langchain_community.utilities import WikipediaAPIWrapper\n",
    "\n",
    "## define tools to use, can build custom tools\n",
    "\n",
    "# google search\n",
    "google = GoogleSearchAPIWrapper(google_api_key=google_api_key, google_cse_id=sid)\n",
    "search_gg = Tool(\n",
    "    name=\"search google\",\n",
    "    description=\"Search Google for up to date results\",\n",
    "    func=google.run\n",
    ")\n",
    "\n",
    "\n",
    "# wikipedia search\n",
    "wikipedia = WikipediaQueryRun(api_wrapper=WikipediaAPIWrapper(top_k_results=1, doc_content_chars_max=2000))\n",
    "search_wiki = Tool(\n",
    "    name=\"search wikipedia\",\n",
    "    description=\"Search Wikipedia articles for grounded facts and concepts\",\n",
    "    func=wikipedia.run\n",
    ")"
   ]
  },
  {
   "cell_type": "code",
   "execution_count": 5,
   "metadata": {},
   "outputs": [],
   "source": [
    "marketer = Agent(\n",
    "        role=\"Market Research Analyst\",\n",
    "        goal=\"Gather information on the demand for a product or service, the target audience, and the competition.\",\n",
    "        backstory=\"\"\"You're a serial entrepreneur who has been successful in the past. You're now looking to start a new business and need to do some market research to determine the demand for your product or service, the target audience, and the competition. \n",
    "        This will help you make informed decisions about your business and increase your chances of success. You want to look for ideas or products that are feasible technology-wise and have a good market potential\n",
    "        \"\"\",\n",
    "        verbose=True,\n",
    "        memory=True,\n",
    "        allow_delegation=False,\n",
    "        max_rpm=10,\n",
    "        max_iter=5,\n",
    "        llm=local_llm # load our custom model: will be slow with multiple agents\n",
    ")\n",
    "\n",
    "technologist = Agent(\n",
    "        role=\"Technology Expert\",\n",
    "        goal=\"Make assessment on how technologically feasable the company is and what type of technologies the company needs to adopt in order to succeed\",\n",
    "        backstory=\"\"\"You are an expert in AI technology, with a deep understanding of both current and emerging technological trends. Your \n",
    "                expertise lies not just in knowing the technology but in foreseeing how it can be leveraged to solve real-world problems and drive business innovation.\n",
    "                You have a knack for identifying which technological solutions best fit different business models and needs, ensuring that companies stay ahead of \n",
    "                the curve.\"\"\",\n",
    "        verbose=True,\n",
    "        memory=True,\n",
    "        allow_delegation=False, \n",
    "        # llm=local_llm # default is openai\n",
    ")\n",
    "\n",
    "founder = Agent(\n",
    "        role=\"Founder, ex-CEO of WeDontWork\",\n",
    "        goal=\"Evaluate and advise on the business model, scalability, and potential revenue streams to ensure long-term sustainability and profitability\",\n",
    "        backstory=\"\"\"You are a seasoned professional with expertise in shaping business strategies. Your insight is essential for turning innovative ideas \n",
    "                into viable business models. Your experience in scalability ensures that a business can grow without compromising its values or operational efficiency. \n",
    "                Your goal is not just about immediate monetary gains but about building a resilient  business that can thrive in a changing market.\"\"\",\n",
    "        verbose=True,\n",
    "        allow_delegation=True, # enable collaboration: can invoke other agents\n",
    "        # llm=local_llm # uncomment to use local model: if you have good hardware\n",
    ")"
   ]
  },
  {
   "cell_type": "code",
   "execution_count": 6,
   "metadata": {},
   "outputs": [],
   "source": [
    "topic = \"Generative AI in financial services\"\n",
    "\n",
    "market = Task(\n",
    "  description=f'Find and summarize the latest potential business ideas on {topic}',\n",
    "  expected_output=f'A bullet list summary of the top 5 most promising business ideas on {topic}',\n",
    "  agent=marketer,\n",
    "  tools=[search_gg]\n",
    ")\n",
    "\n",
    "technology = Task(\n",
    "  description=f'Analyze how to build a product or service on {topic} with sustainable growth and profit.',\n",
    "  expected_output = f'A detailed report in bullet points, maximum 10 entries. It has to address the most important areas to build and deploy a business on {topic}.',\n",
    "  agent=technologist,\n",
    "  tools=[search_wiki, search_gg]\n",
    ")\n",
    "\n",
    "business = Task(\n",
    "  description=f'Analyze and summarize market fit and technological report on {topic}. Write a detailed business plan with description each steps.',\n",
    "  expected_output=f'A business plan with a comprehensive analysis in 5 bullet points on {topic}, making clear the business model and growth path.',\n",
    "  agent=founder,\n",
    "  tools=[search_gg]\n",
    ")"
   ]
  },
  {
   "cell_type": "code",
   "execution_count": 7,
   "metadata": {},
   "outputs": [],
   "source": [
    "crew = Crew(\n",
    "    agents=[marketer, technologist, founder],\n",
    "    tasks=[market, technology, business],\n",
    "    verbose=2,\n",
    "    process=Process.sequential,# Sequential process will have tasks executed one after the other and the outcome of the previous one is passed as extra content into this next.\n",
    ")"
   ]
  },
  {
   "cell_type": "code",
   "execution_count": 8,
   "metadata": {},
   "outputs": [],
   "source": [
    "%%capture captured_output\n",
    "# comment the previous line to see live result\n",
    "\n",
    "# run the crew\n",
    "result = crew.kickoff()\n",
    "\n",
    "print('***'*10 + \"*****Final Result*****\" + '***'*10)\n",
    "print(result)"
   ]
  },
  {
   "cell_type": "code",
   "execution_count": 10,
   "metadata": {},
   "outputs": [],
   "source": [
    "# export result\n",
    "with open('result_example.md', 'w') as f:\n",
    "  f.write(f'# Example result with multiple AI agents on: {topic} \\n')\n",
    "  f.write('====\\n'*2)\n",
    "  f.write(result)\n",
    "  f.write('-----\\n')\n",
    "  f.write('*disclaimer: not financial advice\\n')\n",
    "  f.write('====\\n'*2)\n",
    "  f.write('# Internal logs of agents\\n')\n",
    "  f.write(captured_output.stdout)\n",
    "  f.write('======\\n')\n",
    "  f.close()"
   ]
  }
 ],
 "metadata": {
  "celltoolbar": "Slideshow",
  "kernelspec": {
   "display_name": "crew-test",
   "language": "python",
   "name": "python3"
  },
  "language_info": {
   "codemirror_mode": {
    "name": "ipython",
    "version": 3
   },
   "file_extension": ".py",
   "mimetype": "text/x-python",
   "name": "python",
   "nbconvert_exporter": "python",
   "pygments_lexer": "ipython3",
   "version": "3.12.2"
  },
  "varInspector": {
   "cols": {
    "lenName": 16,
    "lenType": 16,
    "lenVar": 40
   },
   "kernels_config": {
    "python": {
     "delete_cmd_postfix": "",
     "delete_cmd_prefix": "del ",
     "library": "var_list.py",
     "varRefreshCmd": "print(var_dic_list())"
    },
    "r": {
     "delete_cmd_postfix": ") ",
     "delete_cmd_prefix": "rm(",
     "library": "var_list.r",
     "varRefreshCmd": "cat(var_dic_list()) "
    }
   },
   "types_to_exclude": [
    "module",
    "function",
    "builtin_function_or_method",
    "instance",
    "_Feature"
   ],
   "window_display": false
  }
 },
 "nbformat": 4,
 "nbformat_minor": 2
}
