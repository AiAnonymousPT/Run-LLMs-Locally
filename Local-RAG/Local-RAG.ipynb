{
 "cells": [
  {
   "cell_type": "markdown",
   "id": "43781d12-8343-4942-8327-468a7a5ddff1",
   "metadata": {},
   "source": [
    "# Local RAG"
   ]
  },
  {
   "cell_type": "code",
   "execution_count": 1,
   "id": "ecf3f103-0558-49ad-b876-4d048443d181",
   "metadata": {},
   "outputs": [
    {
     "data": {
      "text/plain": [
       "'cpu'"
      ]
     },
     "execution_count": 1,
     "metadata": {},
     "output_type": "execute_result"
    }
   ],
   "source": [
    "# Checking the available device and then installing the appropriate version of FAISS\n",
    "import torch\n",
    "\n",
    "# Check if GPU is available\n",
    "device = \"cuda\" if torch.cuda.is_available() else \"cpu\"\n",
    "\n",
    "device"
   ]
  },
  {
   "cell_type": "markdown",
   "id": "d3a538f1-0715-42b3-9a8a-f7add4c94277",
   "metadata": {},
   "source": [
    "## Config Local LLM API access"
   ]
  },
  {
   "cell_type": "code",
   "execution_count": 2,
   "id": "a719a783-da5d-4f5f-a505-0e1669dbe572",
   "metadata": {},
   "outputs": [
    {
     "name": "stdout",
     "output_type": "stream",
     "text": [
      "## Local LLM loaded ##\n",
      " Why don't scientists trust atoms?\n",
      "\n",
      "Because they make up everything!\n"
     ]
    }
   ],
   "source": [
    "from langchain_community.chat_models import ChatOllama\n",
    "from langchain_core.prompts import ChatPromptTemplate\n",
    "from langchain_core.output_parsers import StrOutputParser\n",
    "\n",
    "custom_url = 'http://localhost:11434'\n",
    "\n",
    "llm = ChatOllama(\n",
    "    base_url = custom_url,\n",
    "    model = 'mistral'\n",
    ")\n",
    "print(\"## Local LLM loaded ##\")\n",
    "\n",
    "# Test API\n",
    "prompt = ChatPromptTemplate.from_template(\"Tell me a short joke\")\n",
    "chain = prompt | llm | StrOutputParser()\n",
    "print(chain.invoke({\"topic\": \"Space travel\"}))"
   ]
  },
  {
   "cell_type": "markdown",
   "id": "db83bfaf-e917-423d-a314-c16b83622cf2",
   "metadata": {},
   "source": [
    "## Load Docs"
   ]
  },
  {
   "cell_type": "code",
   "execution_count": 3,
   "id": "bf8262d9-236a-4218-9706-a67ce1cb4019",
   "metadata": {},
   "outputs": [],
   "source": [
    "from langchain_community.document_loaders import DirectoryLoader\n",
    "\n",
    "path = \"./docs\"\n",
    "loader = DirectoryLoader(path)\n",
    "docs = loader.load()"
   ]
  },
  {
   "cell_type": "code",
   "execution_count": 4,
   "id": "83362ff5-5e4b-4e4c-b44f-fbc7bb728267",
   "metadata": {},
   "outputs": [
    {
     "data": {
      "text/plain": [
       "1"
      ]
     },
     "execution_count": 4,
     "metadata": {},
     "output_type": "execute_result"
    }
   ],
   "source": [
    "len(docs)"
   ]
  },
  {
   "cell_type": "code",
   "execution_count": 5,
   "id": "a7eb039b-91f8-44f5-99f0-a57bace65d3b",
   "metadata": {},
   "outputs": [
    {
     "name": "stderr",
     "output_type": "stream",
     "text": [
      "/Users/mark/.local/share/virtualenvs/Local-RAG-CZmIYpAN/lib/python3.11/site-packages/tqdm/auto.py:21: TqdmWarning: IProgress not found. Please update jupyter and ipywidgets. See https://ipywidgets.readthedocs.io/en/stable/user_install.html\n",
      "  from .autonotebook import tqdm as notebook_tqdm\n"
     ]
    },
    {
     "name": "stdout",
     "output_type": "stream",
     "text": [
      "You have 272 document(s) in your data\n"
     ]
    }
   ],
   "source": [
    "from langchain.text_splitter import SentenceTransformersTokenTextSplitter\n",
    "\n",
    "text_splitter = SentenceTransformersTokenTextSplitter(chunk_overlap=0, tokens_per_chunk=256)\n",
    "documents = text_splitter.split_documents(docs)\n",
    "\n",
    "print (f'You have {len(documents)} document(s) in your data')"
   ]
  },
  {
   "cell_type": "code",
   "execution_count": 6,
   "id": "e89a5f64-6b47-4458-881c-a5d6c1f4cf18",
   "metadata": {},
   "outputs": [
    {
     "data": {
      "text/plain": [
       "Document(page_content='being a global - scale cloud, azure uniquely offers hybrid consistency, developer productivity, ai capabilities, and trusted security and compliance. we see more emerging use cases and needs for compute and security at the edge and are accelerating our innovation across the spectrum of intelligent edge devices, from internet of things ( “ iot ” ) sensors to gateway devices and edge hardware to build, manage, and secure edge workloads. with azure stack, organizations can extend azure into their own datacenters to create a consistent stack across the public cloud and the intelligent edge. 4 part i item 1 our hybrid infrastructure consistency spans security, compliance, identity, and management, helping to support the real - world needs and evolving regulatory requirements of commercial customers and enterprises. our industry clouds bring together capabilities across the entire microsoft cloud, along with industry - specific customizations, to improve time to value, increase agility, and lower costs. azure arc simplifies governance and management by delivering a consistent multi - cloud and on - premises management platform. security, compliance, identity, and management underlie our entire tech stack. we offer integrated, end - to - end capabilities to protect people and organizations. in march 2022, we completed our acquisition of nuance communications, inc. ( “ nuance ” )', metadata={'source': 'docs/microsoft-ar-2022.pdf'})"
      ]
     },
     "execution_count": 6,
     "metadata": {},
     "output_type": "execute_result"
    }
   ],
   "source": [
    "documents[10]"
   ]
  },
  {
   "cell_type": "code",
   "execution_count": 7,
   "id": "dfed762b-abb0-44f2-8208-d2a94c6f13b3",
   "metadata": {},
   "outputs": [
    {
     "name": "stderr",
     "output_type": "stream",
     "text": [
      "huggingface/tokenizers: The current process just got forked, after parallelism has already been used. Disabling parallelism to avoid deadlocks...\n",
      "To disable this warning, you can either:\n",
      "\t- Avoid using `tokenizers` before the fork if possible\n",
      "\t- Explicitly set the environment variable TOKENIZERS_PARALLELISM=(true | false)\n"
     ]
    }
   ],
   "source": [
    "from langchain_community.vectorstores import Chroma\n",
    "from langchain_community.embeddings import SentenceTransformerEmbeddings\n",
    "\n",
    "!mkdir -p vector-db\n",
    "persist_directory = \"./vector-db\"\n",
    "\n",
    "embeddings = SentenceTransformerEmbeddings(model_name=\"all-MiniLM-L6-v2\")\n",
    "db = Chroma.from_documents(documents, embeddings, persist_directory=persist_directory)"
   ]
  },
  {
   "cell_type": "code",
   "execution_count": 8,
   "id": "5eaff13f-d34f-4fa1-9196-f83e062072d3",
   "metadata": {},
   "outputs": [],
   "source": [
    "# !mkdir -p vector-db\n",
    "# client = Chroma.PersistentClient(path=\"./vector-db/\")"
   ]
  },
  {
   "cell_type": "code",
   "execution_count": 9,
   "id": "4b9b8fd6-1706-4180-9f9c-95dc69fdb0b2",
   "metadata": {},
   "outputs": [
    {
     "name": "stdout",
     "output_type": "stream",
     "text": [
      "in millions ) year ended june 30, united states ( a ) other countries $ 2022 100, 218 $ 98, 052 2021 83, 953 $ 84, 135 total $ 198, 270 $ 168, 088 $ ( a ) includes billings to oems and certain multinational organizations because of the nature of these businesses and the impracticability of determining the geographic source of the revenue. 94 2020 46, 398 48, 366 48, 251 143, 015 18, 724 18, 324 15, 911 52, 959 2020 73, 160 69, 855 143, 015 part ii item 8 revenue, classified by significant product and service offerings, was as follows : ( in millions ) year ended june 30, server products and cloud services office products and cloud services windows gaming linkedin search and news advertising enterprise services devices other $ 2022 67, 321 $ 44, 862 24, 761 16, 230 13, 816 11, 591 7, 407 6, 991 5, 291 2021 52, 589 $ 39, 872 22, 488 15, 370 10, 289 9, 267 6, 943 6, 791 4, 479 total $ 198, 270 $ 168, 088 $ we in millions ) year ended june 30, united states ( a ) other countries $ 2022 100, 218 $ 98, 052 2021 83, 953 $ 84, 135 total $ 198, 270 $ 168, 088 $ ( a ) includes billings to oems and certain multinational organizations because of the nature of these businesses and the impracticability of determining the geographic source of the revenue. 94 2020 46, 398 48, 366 48, 251 143, 015 18, 724 18, 324 15, 911 52, 959 2020 73, 160 69, 855 143, 015 part ii item 8 revenue, classified by significant product and service offerings, was as follows : ( in millions ) year ended june 30, server products and cloud services office products and cloud services windows gaming linkedin search and news advertising enterprise services devices other $ 2022 67, 321 $ 44, 862 24, 761 16, 230 13, 816 11, 591 7, 407 6, 991 5, 291 2021 52, 589 $ 39, 872 22, 488 15, 370 10, 289 9, 267 6, 943 6, 791 4, 479 total $ 198, 270 $ 168, 088 $ we certain jurisdictions remain subject to examination for tax years 1996 to 2021, some of which are currently under audit by local tax authorities. the resolution of each of these audits is not expected to be material to our consolidated financial statements. note 13 — unearned revenue unearned revenue by segment was as follows : ( in millions ) june 30, productivity and business processes intelligent cloud more personal computing $ 2022 24, 558 $ 19, 371 4, 479 total $ 48, 408 $ changes in unearned revenue were as follows : ( in millions ) year ended june 30, 2022 balance, beginning of period $ deferral of revenue recognition of unearned revenue balance, end of period $ 85 2020 13, 146 ( 31 ) 647 366 ( 331 ) ( 5 ) 13, 792 2021 22, 120 17, 710 4, 311 44, 141 44, 141 110, 455 ( 106, 188 ) 48, 408 part ii item 8 revenue allocated to remaining performance obligations, which includes unearned revenue and amounts that will be invoiced and recognized as revenue in future periods, was $ 193 billion as of june 30, 2022, of which $ 189 billion is related to the commercial portion of revenue. certain jurisdictions remain subject to examination for tax years 1996 to 2021, some of which are currently under audit by local tax authorities. the resolution of each of these audits is not expected to be material to our consolidated financial statements. note 13 — unearned revenue unearned revenue by segment was as follows : ( in millions ) june 30, productivity and business processes intelligent cloud more personal computing $ 2022 24, 558 $ 19, 371 4, 479 total $ 48, 408 $ changes in unearned revenue were as follows : ( in millions ) year ended june 30, 2022 balance, beginning of period $ deferral of revenue recognition of unearned revenue balance, end of period $ 85 2020 13, 146 ( 31 ) 647 366 ( 331 ) ( 5 ) 13, 792 2021 22, 120 17, 710 4, 311 44, 141 44, 141 110, 455 ( 106, 188 ) 48, 408 part ii item 8 revenue allocated to remaining performance obligations, which includes unearned revenue and amounts that will be invoiced and recognized as revenue in future periods, was $ 193 billion as of june 30, 2022, of which $ 189 billion is related to the commercial portion of revenue.\n"
     ]
    }
   ],
   "source": [
    "query = \"What was the total revenue?\"\n",
    "query_embedding = embeddings.embed_query(query) # create vector embedding of query\n",
    "\n",
    "docs = db.similarity_search_by_vector(query_embedding)\n",
    "docs_page_content = \" \".join([d.page_content for d in docs]) # extract and combine results into one doc\n",
    "\n",
    "print(docs_page_content)"
   ]
  },
  {
   "cell_type": "code",
   "execution_count": 10,
   "id": "03177cf2-bc42-4f4f-9c02-e3ad36460d83",
   "metadata": {},
   "outputs": [
    {
     "name": "stderr",
     "output_type": "stream",
     "text": [
      "/Users/mark/.local/share/virtualenvs/Local-RAG-CZmIYpAN/lib/python3.11/site-packages/langchain_core/_api/deprecation.py:117: LangChainDeprecationWarning: The function `run` was deprecated in LangChain 0.1.0 and will be removed in 0.2.0. Use invoke instead.\n",
      "  warn_deprecated(\n"
     ]
    },
    {
     "name": "stdout",
     "output_type": "stream",
     "text": [
      " Based on the provided articles, the total revenue for the year ended June 30, 2022, was $198,270 million in the United States and other countries. However, it's important to note that this figure includes billings to Original Equipment Manufacturers (OEMs) and certain multinational organizations due to the nature of their businesses and the impracticability of determining the geographic source of the revenue.\n",
      "\n",
      "According to the articles, the revenue was classified as follows:\n",
      "- Server products and cloud services: $67,321 million in the United States and other countries (2022) and $52,589 million (2021)\n",
      "- Office products and cloud services: $44,862 million in the United States and other countries (2022) and $17,710 million (2021)\n",
      "- Intelligent cloud: $13,146 million in the United States (2022) and $311 million (2021)\n",
      "- More personal computing: $18,456 million in the United States (2022) and $4,311 million (2021)\n",
      "\n",
      "Furthermore, there was unearned revenue by segment of $48,408 million as of June 30, 2022. The changes in unearned revenue were ($106,188) million from 2021 to 2022. Additionally, the revenue allocated to remaining performance obligations was $193 billion as of June 30, 2022, with $189 billion related to the commercial portion of revenue.\n",
      "\n",
      "Based on this information, there is no clear mention of a specific total revenue figure for the year ended June 30, 2022. However, it can be inferred that the total revenue was over $198 billion based on the revenue from each segment and unearned revenue.\n"
     ]
    }
   ],
   "source": [
    "from langchain import PromptTemplate\n",
    "from langchain.chains import LLMChain\n",
    "\n",
    "prompt = PromptTemplate(\n",
    "    input_variables=[\"question\", \"docs\"],\n",
    "    template=\"\"\"\n",
    "      This bot engages in discussions on a wide range of topics, including cultural, philosophical, and political matters. It analyzes provided articles to inform its responses. Please adhere to the truth. If no resources are available, share your personal opinion.\n",
    "\n",
    "      Question to be answered: {question}\n",
    "\n",
    "      Referenced articles for analysis: {docs}\n",
    "\n",
    "      Instructions for the bot:\n",
    "      1. Extract and use only factual information from the specified documents.\n",
    "      2. Highlight key phrases and evidence from the articles to support your answers.\n",
    "      3. If the articles do not sufficiently cover the topic to provide an informed response, please state, \"I don't have enough information to answer this question.\"\n",
    "\n",
    "      Remember, the goal is to provide well-informed, accurate, and thoughtful responses based on the available resources. If personal opinion is necessary due to a lack of information, it should be clearly identified as such.\n",
    "      \"\"\",\n",
    "    )\n",
    "\n",
    "chain = LLMChain(llm=llm, prompt=prompt)\n",
    "\n",
    "response = chain.run(question=query, docs=docs_page_content,return_source_documents=True)\n",
    "response_text = str(response)\n",
    "\n",
    "print(response_text)"
   ]
  },
  {
   "cell_type": "code",
   "execution_count": 11,
   "id": "038859fd-be41-4e25-ae69-ba45e22612f2",
   "metadata": {},
   "outputs": [
    {
     "name": "stdout",
     "output_type": "stream",
     "text": [
      " Yes, the response is generally faithful to the context provided by the reference article, although there are some discrepancies and notable omissions that require further explanation.\n",
      "\n",
      "The response accurately reflects the revenue figures presented in the article for Microsoft Corporation's fiscal years 2021 and 2022. It also correctly categorizes this revenue into various product and service offerings, such as server products and cloud services, office products and cloud services, windows gaming, linkedin search and news advertising, enterprise services, devices, and other.\n",
      "\n",
      "However, the response fails to mention the specific reason why certain revenue was not included in the \"Productivity and business processes\" or \"Intelligent cloud\" segments mentioned in the article. The article states that this revenue is excluded because it includes billings to OEMs and multinational organizations and the impracticability of determining the geographic source of the revenue. This crucial context is missing from the response, which could lead to confusion for readers who are not familiar with Microsoft's business model or the accounting treatment of certain types of revenue.\n",
      "\n",
      "Another discrepancy lies in the presentation of unearned revenue by segment. While the article provides detailed figures for each segment, the response only lists a total unearned revenue figure for all segments combined. The response also omits important information regarding changes in unearned revenue and their impact on the deferral of revenue recognition, which is discussed in the article.\n",
      "\n",
      "Overall, the response remains faithful to the broader topic of Microsoft's financial performance as presented in the reference article. However, it falls short in providing a complete and accurate representation of the information found within the article, particularly in relation to the unearned revenue segment. To improve faithfulness to the context, the response should include more detail about the reasons for excluding certain revenue from specific segments and provide a clear explanation of changes in unearned revenue and their impact on deferral of revenue recognition.\n"
     ]
    }
   ],
   "source": [
    "prompt_eval = PromptTemplate(\n",
    "        input_variables=[\"answer\", \"docs\"],\n",
    "        template=\"\"\"\n",
    "          Your task is to assess whether the provided response accurately and faithfully reflects the context of a given question or statement.\n",
    "\n",
    "          Evaluate the following response: {answer}\n",
    "          Reference article for evaluation: {docs}\n",
    "\n",
    "          Instructions for the evaluation:\n",
    "          1. Start your evaluation with a clear \"Yes\" or \"No\" to indicate if the response is faithful to the context provided by the reference article.\n",
    "          2. Provide a detailed reason for your judgment. Mention specific aspects of the response and the article that support your evaluation. Highlight any direct correlations, discrepancies, or notable omissions in the response compared to the factual content of the article.\n",
    "          3. If the response incorporates elements not found in the article but remains relevant and truthful to the broader topic, please acknowledge this as a factor in your assessment.\n",
    "\n",
    "          Your evaluation should focus on the accuracy, relevance, and completeness of the response in relation to the information presented in the referenced article. This ensures a thorough and reasoned assessment of the response's faithfulness to the context.\n",
    "          \"\"\",\n",
    "    )\n",
    "\n",
    "eval_chain = LLMChain(llm=llm, prompt=prompt_eval)\n",
    "\n",
    "evals = eval_chain.run(answer=response_text, docs=docs_page_content)\n",
    "eval_text = str(evals)\n",
    "\n",
    "print(eval_text)"
   ]
  },
  {
   "cell_type": "code",
   "execution_count": 12,
   "id": "64c6184a-1631-46bd-973a-ff5dbe57cc19",
   "metadata": {},
   "outputs": [
    {
     "name": "stdout",
     "output_type": "stream",
     "text": [
      "\n",
      "\n",
      "> Question:\n",
      "'What was the total revenue?'\n",
      "\n",
      "> Answer:\n",
      "(' Based on the provided articles, the total revenue for the year ended June '\n",
      " '30, 2022, was $198,270 million in the United States and other countries. '\n",
      " \"However, it's important to note that this figure includes billings to \"\n",
      " 'Original Equipment Manufacturers (OEMs) and certain multinational '\n",
      " 'organizations due to the nature of their businesses and the impracticability '\n",
      " 'of determining the geographic source of the revenue.\\n'\n",
      " '\\n'\n",
      " 'According to the articles, the revenue was classified as follows:\\n'\n",
      " '- Server products and cloud services: $67,321 million in the United States '\n",
      " 'and other countries (2022) and $52,589 million (2021)\\n'\n",
      " '- Office products and cloud services: $44,862 million in the United States '\n",
      " 'and other countries (2022) and $17,710 million (2021)\\n'\n",
      " '- Intelligent cloud: $13,146 million in the United States (2022) and $311 '\n",
      " 'million (2021)\\n'\n",
      " '- More personal computing: $18,456 million in the United States (2022) and '\n",
      " '$4,311 million (2021)\\n'\n",
      " '\\n'\n",
      " 'Furthermore, there was unearned revenue by segment of $48,408 million as of '\n",
      " 'June 30, 2022. The changes in unearned revenue were ($106,188) million from '\n",
      " '2021 to 2022. Additionally, the revenue allocated to remaining performance '\n",
      " 'obligations was $193 billion as of June 30, 2022, with $189 billion related '\n",
      " 'to the commercial portion of revenue.\\n'\n",
      " '\\n'\n",
      " 'Based on this information, there is no clear mention of a specific total '\n",
      " 'revenue figure for the year ended June 30, 2022. However, it can be inferred '\n",
      " 'that the total revenue was over $198 billion based on the revenue from each '\n",
      " 'segment and unearned revenue.')\n",
      "\n",
      "> Eval:\n",
      "(' Yes, the response is generally faithful to the context provided by the '\n",
      " 'reference article, although there are some discrepancies and notable '\n",
      " 'omissions that require further explanation.\\n'\n",
      " '\\n'\n",
      " 'The response accurately reflects the revenue figures presented in the '\n",
      " \"article for Microsoft Corporation's fiscal years 2021 and 2022. It also \"\n",
      " 'correctly categorizes this revenue into various product and service '\n",
      " 'offerings, such as server products and cloud services, office products and '\n",
      " 'cloud services, windows gaming, linkedin search and news advertising, '\n",
      " 'enterprise services, devices, and other.\\n'\n",
      " '\\n'\n",
      " 'However, the response fails to mention the specific reason why certain '\n",
      " 'revenue was not included in the \"Productivity and business processes\" or '\n",
      " '\"Intelligent cloud\" segments mentioned in the article. The article states '\n",
      " 'that this revenue is excluded because it includes billings to OEMs and '\n",
      " 'multinational organizations and the impracticability of determining the '\n",
      " 'geographic source of the revenue. This crucial context is missing from the '\n",
      " 'response, which could lead to confusion for readers who are not familiar '\n",
      " \"with Microsoft's business model or the accounting treatment of certain types \"\n",
      " 'of revenue.\\n'\n",
      " '\\n'\n",
      " 'Another discrepancy lies in the presentation of unearned revenue by segment. '\n",
      " 'While the article provides detailed figures for each segment, the response '\n",
      " 'only lists a total unearned revenue figure for all segments combined. The '\n",
      " 'response also omits important information regarding changes in unearned '\n",
      " 'revenue and their impact on the deferral of revenue recognition, which is '\n",
      " 'discussed in the article.\\n'\n",
      " '\\n'\n",
      " \"Overall, the response remains faithful to the broader topic of Microsoft's \"\n",
      " 'financial performance as presented in the reference article. However, it '\n",
      " 'falls short in providing a complete and accurate representation of the '\n",
      " 'information found within the article, particularly in relation to the '\n",
      " 'unearned revenue segment. To improve faithfulness to the context, the '\n",
      " 'response should include more detail about the reasons for excluding certain '\n",
      " 'revenue from specific segments and provide a clear explanation of changes in '\n",
      " 'unearned revenue and their impact on deferral of revenue recognition.')\n",
      "----------------------------------SOURCE DOCUMENTS---------------------------\n",
      "\n",
      "> docs/microsoft-ar-2022.pdf\n",
      "('in millions ) year ended june 30, united states ( a ) other countries $ 2022 '\n",
      " '100, 218 $ 98, 052 2021 83, 953 $ 84, 135 total $ 198, 270 $ 168, 088 $ ( a '\n",
      " ') includes billings to oems and certain multinational organizations because '\n",
      " 'of the nature of these businesses and the impracticability of determining '\n",
      " 'the geographic source of the revenue. 94 2020 46, 398 48, 366 48, 251 143, '\n",
      " '015 18, 724 18, 324 15, 911 52, 959 2020 73, 160 69, 855 143, 015 part ii '\n",
      " 'item 8 revenue, classified by significant product and service offerings, was '\n",
      " 'as follows : ( in millions ) year ended june 30, server products and cloud '\n",
      " 'services office products and cloud services windows gaming linkedin search '\n",
      " 'and news advertising enterprise services devices other $ 2022 67, 321 $ 44, '\n",
      " '862 24, 761 16, 230 13, 816 11, 591 7, 407 6, 991 5, 291 2021 52, 589 $ 39, '\n",
      " '872 22, 488 15, 370 10, 289 9, 267 6, 943 6, 791 4, 479 total $ 198, 270 $ '\n",
      " '168, 088 $ we')\n",
      "\n",
      "> docs/microsoft-ar-2022.pdf\n",
      "('in millions ) year ended june 30, united states ( a ) other countries $ 2022 '\n",
      " '100, 218 $ 98, 052 2021 83, 953 $ 84, 135 total $ 198, 270 $ 168, 088 $ ( a '\n",
      " ') includes billings to oems and certain multinational organizations because '\n",
      " 'of the nature of these businesses and the impracticability of determining '\n",
      " 'the geographic source of the revenue. 94 2020 46, 398 48, 366 48, 251 143, '\n",
      " '015 18, 724 18, 324 15, 911 52, 959 2020 73, 160 69, 855 143, 015 part ii '\n",
      " 'item 8 revenue, classified by significant product and service offerings, was '\n",
      " 'as follows : ( in millions ) year ended june 30, server products and cloud '\n",
      " 'services office products and cloud services windows gaming linkedin search '\n",
      " 'and news advertising enterprise services devices other $ 2022 67, 321 $ 44, '\n",
      " '862 24, 761 16, 230 13, 816 11, 591 7, 407 6, 991 5, 291 2021 52, 589 $ 39, '\n",
      " '872 22, 488 15, 370 10, 289 9, 267 6, 943 6, 791 4, 479 total $ 198, 270 $ '\n",
      " '168, 088 $ we')\n",
      "\n",
      "> docs/microsoft-ar-2022.pdf\n",
      "('certain jurisdictions remain subject to examination for tax years 1996 to '\n",
      " '2021, some of which are currently under audit by local tax authorities. the '\n",
      " 'resolution of each of these audits is not expected to be material to our '\n",
      " 'consolidated financial statements. note 13 — unearned revenue unearned '\n",
      " 'revenue by segment was as follows : ( in millions ) june 30, productivity '\n",
      " 'and business processes intelligent cloud more personal computing $ 2022 24, '\n",
      " '558 $ 19, 371 4, 479 total $ 48, 408 $ changes in unearned revenue were as '\n",
      " 'follows : ( in millions ) year ended june 30, 2022 balance, beginning of '\n",
      " 'period $ deferral of revenue recognition of unearned revenue balance, end of '\n",
      " 'period $ 85 2020 13, 146 ( 31 ) 647 366 ( 331 ) ( 5 ) 13, 792 2021 22, 120 '\n",
      " '17, 710 4, 311 44, 141 44, 141 110, 455 ( 106, 188 ) 48, 408 part ii item 8 '\n",
      " 'revenue allocated to remaining performance obligations, which includes '\n",
      " 'unearned revenue and amounts that will be invoiced and recognized as revenue '\n",
      " 'in future periods, was $ 193 bil')\n",
      "\n",
      "> docs/microsoft-ar-2022.pdf\n",
      "('certain jurisdictions remain subject to examination for tax years 1996 to '\n",
      " '2021, some of which are currently under audit by local tax authorities. the '\n",
      " 'resolution of each of these audits is not expected to be material to our '\n",
      " 'consolidated financial statements. note 13 — unearned revenue unearned '\n",
      " 'revenue by segment was as follows : ( in millions ) june 30, productivity '\n",
      " 'and business processes intelligent cloud more personal computing $ 2022 24, '\n",
      " '558 $ 19, 371 4, 479 total $ 48, 408 $ changes in unearned revenue were as '\n",
      " 'follows : ( in millions ) year ended june 30, 2022 balance, beginning of '\n",
      " 'period $ deferral of revenue recognition of unearned revenue balance, end of '\n",
      " 'period $ 85 2020 13, 146 ( 31 ) 647 366 ( 331 ) ( 5 ) 13, 792 2021 22, 120 '\n",
      " '17, 710 4, 311 44, 141 44, 141 110, 455 ( 106, 188 ) 48, 408 part ii item 8 '\n",
      " 'revenue allocated to remaining performance obligations, which includes '\n",
      " 'unearned revenue and amounts that will be invoiced and recognized as revenue '\n",
      " 'in future periods, was $ 193 bil')\n",
      "----------------------------------SOURCE DOCUMENTS---------------------------\n"
     ]
    }
   ],
   "source": [
    "from pprint import pprint\n",
    "\n",
    "# Print question, answer, and evaluations\n",
    "print(\"\\n\\n> Question:\")\n",
    "pprint(query)\n",
    "print(\"\\n> Answer:\")\n",
    "pprint(response)\n",
    "print(\"\\n> Eval:\")\n",
    "pprint(evals)\n",
    "\n",
    "# Print the relevant sources used for the answer\n",
    "print(\"----------------------------------SOURCE DOCUMENTS---------------------------\")\n",
    "for document in docs:\n",
    "    print(\"\\n> \" + document.metadata[\"source\"])\n",
    "    pprint(document.page_content[:1000])\n",
    "print(\"----------------------------------SOURCE DOCUMENTS---------------------------\")"
   ]
  },
  {
   "cell_type": "code",
   "execution_count": null,
   "id": "30ac909f-68f8-4df0-9670-b70d23281bdf",
   "metadata": {},
   "outputs": [
    {
     "name": "stdout",
     "output_type": "stream",
     "text": [
      "Running on local URL:  http://127.0.0.1:7860\n"
     ]
    },
    {
     "name": "stderr",
     "output_type": "stream",
     "text": [
      "huggingface/tokenizers: The current process just got forked, after parallelism has already been used. Disabling parallelism to avoid deadlocks...\n",
      "To disable this warning, you can either:\n",
      "\t- Avoid using `tokenizers` before the fork if possible\n",
      "\t- Explicitly set the environment variable TOKENIZERS_PARALLELISM=(true | false)\n"
     ]
    },
    {
     "name": "stdout",
     "output_type": "stream",
     "text": [
      "Running on public URL: https://36b277cb1dd455fcce.gradio.live\n",
      "\n",
      "This share link expires in 72 hours. For free permanent hosting and GPU upgrades, run `gradio deploy` from Terminal to deploy to Spaces (https://huggingface.co/spaces)\n"
     ]
    },
    {
     "data": {
      "text/html": [
       "<div><iframe src=\"https://36b277cb1dd455fcce.gradio.live\" width=\"100%\" height=\"500\" allow=\"autoplay; camera; microphone; clipboard-read; clipboard-write;\" frameborder=\"0\" allowfullscreen></iframe></div>"
      ],
      "text/plain": [
       "<IPython.core.display.HTML object>"
      ]
     },
     "metadata": {},
     "output_type": "display_data"
    }
   ],
   "source": [
    "def get_response_from_query(db, query):\n",
    "\n",
    "    # embed query, find k nearest docs, combine docs\n",
    "    query_embedding = embeddings.embed_query(query)\n",
    "    docs = db.similarity_search_by_vector(query_embedding)\n",
    "    docs_page_content = \" \".join([d.page_content for d in docs])\n",
    "\n",
    "\n",
    "    # generate LLM answer based on similar docs\n",
    "    prompt = PromptTemplate(\n",
    "        input_variables=[\"question\", \"docs\"],\n",
    "        template=\"\"\"\n",
    "      This bot engages in discussions on a wide range of topics, including cultural, philosophical, and political matters. It analyzes provided articles to inform its responses. Please adhere to the truth. If no resources are available, share your personal opinion.\n",
    "\n",
    "      Question to be answered: {question}\n",
    "\n",
    "      Referenced articles for analysis: {docs}\n",
    "\n",
    "      Instructions for the bot:\n",
    "      1. Extract and use only factual information from the specified documents.\n",
    "      2. Highlight key phrases and evidence from the articles to support your answers.\n",
    "      3. If the articles do not sufficiently cover the topic to provide an informed response, please state, \"I don't have enough information to answer this question.\"\n",
    "\n",
    "      Remember, the goal is to provide well-informed, accurate, and thoughtful responses based on the available resources. If personal opinion is necessary due to a lack of information, it should be clearly identified as such.\n",
    "      \"\"\"\n",
    "      ,\n",
    "    )\n",
    "\n",
    "    chain = LLMChain(llm=llm, prompt=prompt)\n",
    "    response = chain.run(question=query, docs=docs_page_content,return_source_documents=True)\n",
    "    r_text = str(response)\n",
    "\n",
    "    # use LLM to evaluate answer\n",
    "    prompt_eval = PromptTemplate(\n",
    "        input_variables=[\"answer\", \"docs\"],\n",
    "        template=\"\"\"\n",
    "          Your task is to assess whether the provided response accurately and faithfully reflects the context of a given question or statement.\n",
    "\n",
    "          Evaluate the following response: {answer}\n",
    "          Reference article for evaluation: {docs}\n",
    "\n",
    "          Instructions for the evaluation:\n",
    "          1. Start your evaluation with a clear \"Yes\" or \"No\" to indicate if the response is faithful to the context provided by the reference article.\n",
    "          2. Provide a detailed reason for your judgment. Mention specific aspects of the response and the article that support your evaluation. Highlight any direct correlations, discrepancies, or notable omissions in the response compared to the factual content of the article.\n",
    "          3. If the response incorporates elements not found in the article but remains relevant and truthful to the broader topic, please acknowledge this as a factor in your assessment.\n",
    "\n",
    "          Your evaluation should focus on the accuracy, relevance, and completeness of the response in relation to the information presented in the referenced article. This ensures a thorough and reasoned assessment of the response's faithfulness to the context.\n",
    "          \"\"\"\n",
    "          ,\n",
    "    )\n",
    "\n",
    "    chain_part_2 = LLMChain(llm=llm, prompt=prompt_eval)\n",
    "    evals = chain_part_2.run(answer=r_text, docs=docs_page_content)\n",
    "\n",
    "    return response,docs,evals\n",
    "\n",
    "\n",
    "import gradio as gr\n",
    "\n",
    "def greet(query):\n",
    "    answer,sources,evals = get_response_from_query(db,query)\n",
    "    return answer,sources,evals\n",
    "\n",
    "\n",
    "demo = gr.Interface(fn=greet,\n",
    "                    title=\"Local-RAG\",\n",
    "                    inputs=[\"text\"],\n",
    "                    outputs=[gr.components.Textbox(lines=3, label=\"Response\"),\n",
    "                             gr.components.Textbox(lines=3, label=\"Source\"),\n",
    "                             gr.components.Textbox(lines=3, label=\"Evaluation\")],\n",
    "                   )\n",
    "\n",
    "demo.launch(share=True, debug=True)"
   ]
  },
  {
   "cell_type": "code",
   "execution_count": null,
   "id": "0ab6dd15-6be4-4ffb-a7bf-faedca7c86cb",
   "metadata": {},
   "outputs": [],
   "source": []
  }
 ],
 "metadata": {
  "kernelspec": {
   "display_name": "Python 3 (ipykernel)",
   "language": "python",
   "name": "python3"
  },
  "language_info": {
   "codemirror_mode": {
    "name": "ipython",
    "version": 3
   },
   "file_extension": ".py",
   "mimetype": "text/x-python",
   "name": "python",
   "nbconvert_exporter": "python",
   "pygments_lexer": "ipython3",
   "version": "3.11.4"
  }
 },
 "nbformat": 4,
 "nbformat_minor": 5
}
