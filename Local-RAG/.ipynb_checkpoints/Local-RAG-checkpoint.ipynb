{
 "cells": [
  {
   "cell_type": "markdown",
   "id": "43781d12-8343-4942-8327-468a7a5ddff1",
   "metadata": {},
   "source": [
    "# Local RAG"
   ]
  },
  {
   "cell_type": "code",
   "execution_count": 1,
   "id": "ecf3f103-0558-49ad-b876-4d048443d181",
   "metadata": {},
   "outputs": [
    {
     "data": {
      "text/plain": [
       "'cpu'"
      ]
     },
     "execution_count": 1,
     "metadata": {},
     "output_type": "execute_result"
    }
   ],
   "source": [
    "# Checking the available device and then installing the appropriate version of FAISS\n",
    "import torch\n",
    "\n",
    "# Check if GPU is available\n",
    "device = \"cuda\" if torch.cuda.is_available() else \"cpu\"\n",
    "\n",
    "device"
   ]
  },
  {
   "cell_type": "markdown",
   "id": "d3a538f1-0715-42b3-9a8a-f7add4c94277",
   "metadata": {},
   "source": [
    "## Config Local LLM API access"
   ]
  },
  {
   "cell_type": "code",
   "execution_count": 2,
   "id": "a719a783-da5d-4f5f-a505-0e1669dbe572",
   "metadata": {},
   "outputs": [
    {
     "name": "stdout",
     "output_type": "stream",
     "text": [
      "## Local LLM loaded ##\n",
      " Why don't scientists trust atoms?\n",
      "\n",
      "Because they make up everything!\n"
     ]
    }
   ],
   "source": [
    "from langchain_community.chat_models import ChatOllama\n",
    "from langchain_core.prompts import ChatPromptTemplate\n",
    "from langchain_core.output_parsers import StrOutputParser\n",
    "\n",
    "custom_url = 'http://localhost:11434'\n",
    "\n",
    "llm = ChatOllama(\n",
    "    base_url = custom_url,\n",
    "    model = 'mistral'\n",
    ")\n",
    "print(\"## Local LLM loaded ##\")\n",
    "\n",
    "# Test API\n",
    "prompt = ChatPromptTemplate.from_template(\"Tell me a short joke\")\n",
    "chain = prompt | llm | StrOutputParser()\n",
    "print(chain.invoke({\"topic\": \"Space travel\"}))"
   ]
  },
  {
   "cell_type": "markdown",
   "id": "db83bfaf-e917-423d-a314-c16b83622cf2",
   "metadata": {},
   "source": [
    "## Load Docs"
   ]
  },
  {
   "cell_type": "code",
   "execution_count": 3,
   "id": "bf8262d9-236a-4218-9706-a67ce1cb4019",
   "metadata": {},
   "outputs": [],
   "source": [
    "from langchain_community.document_loaders import DirectoryLoader\n",
    "\n",
    "path = \"./docs\"\n",
    "loader = DirectoryLoader(path)\n",
    "docs = loader.load()"
   ]
  },
  {
   "cell_type": "code",
   "execution_count": 4,
   "id": "83362ff5-5e4b-4e4c-b44f-fbc7bb728267",
   "metadata": {},
   "outputs": [
    {
     "data": {
      "text/plain": [
       "1"
      ]
     },
     "execution_count": 4,
     "metadata": {},
     "output_type": "execute_result"
    }
   ],
   "source": [
    "len(docs)"
   ]
  },
  {
   "cell_type": "code",
   "execution_count": 5,
   "id": "a7eb039b-91f8-44f5-99f0-a57bace65d3b",
   "metadata": {},
   "outputs": [
    {
     "name": "stderr",
     "output_type": "stream",
     "text": [
      "/Users/mark/.local/share/virtualenvs/Local-RAG-CZmIYpAN/lib/python3.11/site-packages/tqdm/auto.py:21: TqdmWarning: IProgress not found. Please update jupyter and ipywidgets. See https://ipywidgets.readthedocs.io/en/stable/user_install.html\n",
      "  from .autonotebook import tqdm as notebook_tqdm\n"
     ]
    },
    {
     "name": "stdout",
     "output_type": "stream",
     "text": [
      "You have 272 document(s) in your data\n"
     ]
    }
   ],
   "source": [
    "from langchain.text_splitter import SentenceTransformersTokenTextSplitter\n",
    "\n",
    "text_splitter = SentenceTransformersTokenTextSplitter(chunk_overlap=0, tokens_per_chunk=256)\n",
    "documents = text_splitter.split_documents(docs)\n",
    "\n",
    "print (f'You have {len(documents)} document(s) in your data')"
   ]
  },
  {
   "cell_type": "code",
   "execution_count": 6,
   "id": "e89a5f64-6b47-4458-881c-a5d6c1f4cf18",
   "metadata": {},
   "outputs": [
    {
     "data": {
      "text/plain": [
       "Document(page_content='being a global - scale cloud, azure uniquely offers hybrid consistency, developer productivity, ai capabilities, and trusted security and compliance. we see more emerging use cases and needs for compute and security at the edge and are accelerating our innovation across the spectrum of intelligent edge devices, from internet of things ( “ iot ” ) sensors to gateway devices and edge hardware to build, manage, and secure edge workloads. with azure stack, organizations can extend azure into their own datacenters to create a consistent stack across the public cloud and the intelligent edge. 4 part i item 1 our hybrid infrastructure consistency spans security, compliance, identity, and management, helping to support the real - world needs and evolving regulatory requirements of commercial customers and enterprises. our industry clouds bring together capabilities across the entire microsoft cloud, along with industry - specific customizations, to improve time to value, increase agility, and lower costs. azure arc simplifies governance and management by delivering a consistent multi - cloud and on - premises management platform. security, compliance, identity, and management underlie our entire tech stack. we offer integrated, end - to - end capabilities to protect people and organizations. in march 2022, we completed our acquisition of nuance communications, inc. ( “ nuance ” )', metadata={'source': 'docs/microsoft-ar-2022.pdf'})"
      ]
     },
     "execution_count": 6,
     "metadata": {},
     "output_type": "execute_result"
    }
   ],
   "source": [
    "documents[10]"
   ]
  },
  {
   "cell_type": "code",
   "execution_count": 7,
   "id": "dfed762b-abb0-44f2-8208-d2a94c6f13b3",
   "metadata": {},
   "outputs": [
    {
     "name": "stderr",
     "output_type": "stream",
     "text": [
      "huggingface/tokenizers: The current process just got forked, after parallelism has already been used. Disabling parallelism to avoid deadlocks...\n",
      "To disable this warning, you can either:\n",
      "\t- Avoid using `tokenizers` before the fork if possible\n",
      "\t- Explicitly set the environment variable TOKENIZERS_PARALLELISM=(true | false)\n"
     ]
    }
   ],
   "source": [
    "from langchain_community.vectorstores import Chroma\n",
    "from langchain_community.embeddings import SentenceTransformerEmbeddings\n",
    "\n",
    "!mkdir -p vector-db\n",
    "persist_directory = \"./vector-db\"\n",
    "\n",
    "embeddings = SentenceTransformerEmbeddings(model_name=\"all-MiniLM-L6-v2\")\n",
    "db = Chroma.from_documents(documents, embeddings, persist_directory=persist_directory)"
   ]
  },
  {
   "cell_type": "code",
   "execution_count": 8,
   "id": "5eaff13f-d34f-4fa1-9196-f83e062072d3",
   "metadata": {},
   "outputs": [],
   "source": [
    "# !mkdir -p vector-db\n",
    "# client = Chroma.PersistentClient(path=\"./vector-db/\")"
   ]
  },
  {
   "cell_type": "code",
   "execution_count": 9,
   "id": "4b9b8fd6-1706-4180-9f9c-95dc69fdb0b2",
   "metadata": {},
   "outputs": [
    {
     "name": "stdout",
     "output_type": "stream",
     "text": [
      "in millions ) year ended june 30, united states ( a ) other countries $ 2022 100, 218 $ 98, 052 2021 83, 953 $ 84, 135 total $ 198, 270 $ 168, 088 $ ( a ) includes billings to oems and certain multinational organizations because of the nature of these businesses and the impracticability of determining the geographic source of the revenue. 94 2020 46, 398 48, 366 48, 251 143, 015 18, 724 18, 324 15, 911 52, 959 2020 73, 160 69, 855 143, 015 part ii item 8 revenue, classified by significant product and service offerings, was as follows : ( in millions ) year ended june 30, server products and cloud services office products and cloud services windows gaming linkedin search and news advertising enterprise services devices other $ 2022 67, 321 $ 44, 862 24, 761 16, 230 13, 816 11, 591 7, 407 6, 991 5, 291 2021 52, 589 $ 39, 872 22, 488 15, 370 10, 289 9, 267 6, 943 6, 791 4, 479 total $ 198, 270 $ 168, 088 $ we in millions ) year ended june 30, united states ( a ) other countries $ 2022 100, 218 $ 98, 052 2021 83, 953 $ 84, 135 total $ 198, 270 $ 168, 088 $ ( a ) includes billings to oems and certain multinational organizations because of the nature of these businesses and the impracticability of determining the geographic source of the revenue. 94 2020 46, 398 48, 366 48, 251 143, 015 18, 724 18, 324 15, 911 52, 959 2020 73, 160 69, 855 143, 015 part ii item 8 revenue, classified by significant product and service offerings, was as follows : ( in millions ) year ended june 30, server products and cloud services office products and cloud services windows gaming linkedin search and news advertising enterprise services devices other $ 2022 67, 321 $ 44, 862 24, 761 16, 230 13, 816 11, 591 7, 407 6, 991 5, 291 2021 52, 589 $ 39, 872 22, 488 15, 370 10, 289 9, 267 6, 943 6, 791 4, 479 total $ 198, 270 $ 168, 088 $ we certain jurisdictions remain subject to examination for tax years 1996 to 2021, some of which are currently under audit by local tax authorities. the resolution of each of these audits is not expected to be material to our consolidated financial statements. note 13 — unearned revenue unearned revenue by segment was as follows : ( in millions ) june 30, productivity and business processes intelligent cloud more personal computing $ 2022 24, 558 $ 19, 371 4, 479 total $ 48, 408 $ changes in unearned revenue were as follows : ( in millions ) year ended june 30, 2022 balance, beginning of period $ deferral of revenue recognition of unearned revenue balance, end of period $ 85 2020 13, 146 ( 31 ) 647 366 ( 331 ) ( 5 ) 13, 792 2021 22, 120 17, 710 4, 311 44, 141 44, 141 110, 455 ( 106, 188 ) 48, 408 part ii item 8 revenue allocated to remaining performance obligations, which includes unearned revenue and amounts that will be invoiced and recognized as revenue in future periods, was $ 193 billion as of june 30, 2022, of which $ 189 billion is related to the commercial portion of revenue. certain jurisdictions remain subject to examination for tax years 1996 to 2021, some of which are currently under audit by local tax authorities. the resolution of each of these audits is not expected to be material to our consolidated financial statements. note 13 — unearned revenue unearned revenue by segment was as follows : ( in millions ) june 30, productivity and business processes intelligent cloud more personal computing $ 2022 24, 558 $ 19, 371 4, 479 total $ 48, 408 $ changes in unearned revenue were as follows : ( in millions ) year ended june 30, 2022 balance, beginning of period $ deferral of revenue recognition of unearned revenue balance, end of period $ 85 2020 13, 146 ( 31 ) 647 366 ( 331 ) ( 5 ) 13, 792 2021 22, 120 17, 710 4, 311 44, 141 44, 141 110, 455 ( 106, 188 ) 48, 408 part ii item 8 revenue allocated to remaining performance obligations, which includes unearned revenue and amounts that will be invoiced and recognized as revenue in future periods, was $ 193 billion as of june 30, 2022, of which $ 189 billion is related to the commercial portion of revenue.\n"
     ]
    }
   ],
   "source": [
    "query = \"What was the total revenue?\"\n",
    "query_embedding = embeddings.embed_query(query) # create vector embedding of query\n",
    "\n",
    "docs = db.similarity_search_by_vector(query_embedding)\n",
    "docs_page_content = \" \".join([d.page_content for d in docs]) # extract and combine results into one doc\n",
    "\n",
    "print(docs_page_content)"
   ]
  },
  {
   "cell_type": "code",
   "execution_count": 10,
   "id": "03177cf2-bc42-4f4f-9c02-e3ad36460d83",
   "metadata": {},
   "outputs": [
    {
     "name": "stderr",
     "output_type": "stream",
     "text": [
      "/Users/mark/.local/share/virtualenvs/Local-RAG-CZmIYpAN/lib/python3.11/site-packages/langchain_core/_api/deprecation.py:117: LangChainDeprecationWarning: The function `run` was deprecated in LangChain 0.1.0 and will be removed in 0.2.0. Use invoke instead.\n",
      "  warn_deprecated(\n"
     ]
    },
    {
     "name": "stdout",
     "output_type": "stream",
     "text": [
      " Based on the provided articles, the total revenue for the year ended June 30, 2022, for both the United States and other countries was $198,270 million. However, it is important to note that this figure includes billings to Original Equipment Manufacturers (OEMs) and certain multinational organizations due to the nature of their business and the impracticability of determining the geographic source of the revenue.\n",
      "\n",
      "Additionally, for the same time period, the revenue was classified as follows: server products and cloud services - $67,321 million; office products and cloud services - $44,862 million; windows gaming - $16,230 million; linkedin search and news advertising - $13,816 million; enterprise services - $11,479 million; and more personal computing - $4,479 million.\n",
      "\n",
      "Moreover, as of June 30, 2022, the unearned revenue by segment was: productivity and business processes - $24,558 million; intelligent cloud - $19,371 million; and more personal computing - $4,479 million. The changes in unearned revenue were also provided in the articles.\n",
      "\n",
      "Therefore, the key phrases and evidence from the articles that support the answers are \"total revenue for the year ended June 30, 2022, for both the United States and other countries was $198,270 million,\" \"$67,321 million for server products and cloud services,\" \"$44,862 million for office products and cloud services,\" \"$16,230 million for windows gaming,\" \"$13,816 million for linkedin search and news advertising,\" \"$11,479 million for enterprise services,\" \"$4,479 million for more personal computing,\" \"$24,558 million for productivity and business processes,\" \"$19,371 million for intelligent cloud,\" and \"$4,479 million for more personal computing.\"\n"
     ]
    }
   ],
   "source": [
    "from langchain import PromptTemplate\n",
    "from langchain.chains import LLMChain\n",
    "\n",
    "prompt = PromptTemplate(\n",
    "    input_variables=[\"question\", \"docs\"],\n",
    "    template=\"\"\"\n",
    "      This bot engages in discussions on a wide range of topics, including cultural, philosophical, and political matters. It analyzes provided articles to inform its responses. Please adhere to the truth. If no resources are available, share your personal opinion.\n",
    "\n",
    "      Question to be answered: {question}\n",
    "\n",
    "      Referenced articles for analysis: {docs}\n",
    "\n",
    "      Instructions for the bot:\n",
    "      1. Extract and use only factual information from the specified documents.\n",
    "      2. Highlight key phrases and evidence from the articles to support your answers.\n",
    "      3. If the articles do not sufficiently cover the topic to provide an informed response, please state, \"I don't have enough information to answer this question.\"\n",
    "\n",
    "      Remember, the goal is to provide well-informed, accurate, and thoughtful responses based on the available resources. If personal opinion is necessary due to a lack of information, it should be clearly identified as such.\n",
    "      \"\"\",\n",
    "    )\n",
    "\n",
    "chain = LLMChain(llm=llm, prompt=prompt)\n",
    "\n",
    "response = chain.run(question=query, docs=docs_page_content,return_source_documents=True)\n",
    "response_text = str(response)\n",
    "\n",
    "print(response_text)"
   ]
  },
  {
   "cell_type": "code",
   "execution_count": 11,
   "id": "038859fd-be41-4e25-ae69-ba45e22612f2",
   "metadata": {},
   "outputs": [
    {
     "name": "stdout",
     "output_type": "stream",
     "text": [
      " Yes, the response is generally faithful to the context provided by the reference article. However, there are some discrepancies and notable omissions that should be addressed:\n",
      "\n",
      "1. The response accurately reports Microsoft's revenue for the year ended June 30, 2022 ($198.3 billion) and the respective revenue breakdown by product and service offerings. This information is directly from the article.\n",
      "\n",
      "2. However, there are some discrepancies in the figures reported for unearned revenue and changes in unearned revenue between the response and the article. The article states that Microsoft's part II item 8 revenue allocated to remaining performance obligations was $193 billion as of June 30, 2022. In contrast, the response reports a figure of $193 billion for unearned revenue, which is not explicitly mentioned in the article and seems to include both deferred revenue and amounts that will be invoiced and recognized as revenue in future periods (as indicated by \"remaining performance obligations\"). This discrepancy can potentially lead to confusion.\n",
      "\n",
      "3. The response also fails to mention some important context from the article regarding ongoing tax audits in certain jurisdictions, which may not be material to Microsoft's consolidated financial statements but should still be disclosed for transparency.\n",
      "\n",
      "4. Additionally, the response does not acknowledge that there is an overlap between the segments reported in the revenue breakdown (server products and cloud services, office products and cloud services, etc.) and the product and service offerings mentioned in the article. This could potentially lead to a misunderstanding of the data presented.\n",
      "\n",
      "5. The response is otherwise complete and relevant to the broader topic of Microsoft's financial performance as reported in the article. It accurately summarizes the key figures and provides necessary context for understanding them.\n"
     ]
    }
   ],
   "source": [
    "prompt_eval = PromptTemplate(\n",
    "        input_variables=[\"answer\", \"docs\"],\n",
    "        template=\"\"\"\n",
    "          Your task is to assess whether the provided response accurately and faithfully reflects the context of a given question or statement.\n",
    "\n",
    "          Evaluate the following response: {answer}\n",
    "          Reference article for evaluation: {docs}\n",
    "\n",
    "          Instructions for the evaluation:\n",
    "          1. Start your evaluation with a clear \"Yes\" or \"No\" to indicate if the response is faithful to the context provided by the reference article.\n",
    "          2. Provide a detailed reason for your judgment. Mention specific aspects of the response and the article that support your evaluation. Highlight any direct correlations, discrepancies, or notable omissions in the response compared to the factual content of the article.\n",
    "          3. If the response incorporates elements not found in the article but remains relevant and truthful to the broader topic, please acknowledge this as a factor in your assessment.\n",
    "\n",
    "          Your evaluation should focus on the accuracy, relevance, and completeness of the response in relation to the information presented in the referenced article. This ensures a thorough and reasoned assessment of the response's faithfulness to the context.\n",
    "          \"\"\",\n",
    "    )\n",
    "\n",
    "eval_chain = LLMChain(llm=llm, prompt=prompt_eval)\n",
    "\n",
    "evals = eval_chain.run(answer=response_text, docs=docs_page_content)\n",
    "eval_text = str(evals)\n",
    "\n",
    "print(eval_text)"
   ]
  },
  {
   "cell_type": "code",
   "execution_count": 12,
   "id": "64c6184a-1631-46bd-973a-ff5dbe57cc19",
   "metadata": {},
   "outputs": [
    {
     "name": "stdout",
     "output_type": "stream",
     "text": [
      "\n",
      "\n",
      "> Question:\n",
      "'What was the total revenue?'\n",
      "\n",
      "> Answer:\n",
      "(' Based on the provided articles, the total revenue for the year ended June '\n",
      " '30, 2022, for both the United States and other countries was $198,270 '\n",
      " 'million. However, it is important to note that this figure includes billings '\n",
      " 'to Original Equipment Manufacturers (OEMs) and certain multinational '\n",
      " 'organizations due to the nature of their business and the impracticability '\n",
      " 'of determining the geographic source of the revenue.\\n'\n",
      " '\\n'\n",
      " 'Additionally, for the same time period, the revenue was classified as '\n",
      " 'follows: server products and cloud services - $67,321 million; office '\n",
      " 'products and cloud services - $44,862 million; windows gaming - $16,230 '\n",
      " 'million; linkedin search and news advertising - $13,816 million; enterprise '\n",
      " 'services - $11,479 million; and more personal computing - $4,479 million.\\n'\n",
      " '\\n'\n",
      " 'Moreover, as of June 30, 2022, the unearned revenue by segment was: '\n",
      " 'productivity and business processes - $24,558 million; intelligent cloud - '\n",
      " '$19,371 million; and more personal computing - $4,479 million. The changes '\n",
      " 'in unearned revenue were also provided in the articles.\\n'\n",
      " '\\n'\n",
      " 'Therefore, the key phrases and evidence from the articles that support the '\n",
      " 'answers are \"total revenue for the year ended June 30, 2022, for both the '\n",
      " 'United States and other countries was $198,270 million,\" \"$67,321 million '\n",
      " 'for server products and cloud services,\" \"$44,862 million for office '\n",
      " 'products and cloud services,\" \"$16,230 million for windows gaming,\" \"$13,816 '\n",
      " 'million for linkedin search and news advertising,\" \"$11,479 million for '\n",
      " 'enterprise services,\" \"$4,479 million for more personal computing,\" \"$24,558 '\n",
      " 'million for productivity and business processes,\" \"$19,371 million for '\n",
      " 'intelligent cloud,\" and \"$4,479 million for more personal computing.\"')\n",
      "\n",
      "> Eval:\n",
      "(' Yes, the response is generally faithful to the context provided by the '\n",
      " 'reference article. However, there are some discrepancies and notable '\n",
      " 'omissions that should be addressed:\\n'\n",
      " '\\n'\n",
      " \"1. The response accurately reports Microsoft's revenue for the year ended \"\n",
      " 'June 30, 2022 ($198.3 billion) and the respective revenue breakdown by '\n",
      " 'product and service offerings. This information is directly from the '\n",
      " 'article.\\n'\n",
      " '\\n'\n",
      " '2. However, there are some discrepancies in the figures reported for '\n",
      " 'unearned revenue and changes in unearned revenue between the response and '\n",
      " \"the article. The article states that Microsoft's part II item 8 revenue \"\n",
      " 'allocated to remaining performance obligations was $193 billion as of June '\n",
      " '30, 2022. In contrast, the response reports a figure of $193 billion for '\n",
      " 'unearned revenue, which is not explicitly mentioned in the article and seems '\n",
      " 'to include both deferred revenue and amounts that will be invoiced and '\n",
      " 'recognized as revenue in future periods (as indicated by \"remaining '\n",
      " 'performance obligations\"). This discrepancy can potentially lead to '\n",
      " 'confusion.\\n'\n",
      " '\\n'\n",
      " '3. The response also fails to mention some important context from the '\n",
      " 'article regarding ongoing tax audits in certain jurisdictions, which may not '\n",
      " \"be material to Microsoft's consolidated financial statements but should \"\n",
      " 'still be disclosed for transparency.\\n'\n",
      " '\\n'\n",
      " '4. Additionally, the response does not acknowledge that there is an overlap '\n",
      " 'between the segments reported in the revenue breakdown (server products and '\n",
      " 'cloud services, office products and cloud services, etc.) and the product '\n",
      " 'and service offerings mentioned in the article. This could potentially lead '\n",
      " 'to a misunderstanding of the data presented.\\n'\n",
      " '\\n'\n",
      " '5. The response is otherwise complete and relevant to the broader topic of '\n",
      " \"Microsoft's financial performance as reported in the article. It accurately \"\n",
      " 'summarizes the key figures and provides necessary context for understanding '\n",
      " 'them.')\n",
      "----------------------------------SOURCE DOCUMENTS---------------------------\n",
      "\n",
      "> docs/microsoft-ar-2022.pdf\n",
      "('in millions ) year ended june 30, united states ( a ) other countries $ 2022 '\n",
      " '100, 218 $ 98, 052 2021 83, 953 $ 84, 135 total $ 198, 270 $ 168, 088 $ ( a '\n",
      " ') includes billings to oems and certain multinational organizations because '\n",
      " 'of the nature of these businesses and the impracticability of determining '\n",
      " 'the geographic source of the revenue. 94 2020 46, 398 48, 366 48, 251 143, '\n",
      " '015 18, 724 18, 324 15, 911 52, 959 2020 73, 160 69, 855 143, 015 part ii '\n",
      " 'item 8 revenue, classified by significant product and service offerings, was '\n",
      " 'as follows : ( in millions ) year ended june 30, server products and cloud '\n",
      " 'services office products and cloud services windows gaming linkedin search '\n",
      " 'and news advertising enterprise services devices other $ 2022 67, 321 $ 44, '\n",
      " '862 24, 761 16, 230 13, 816 11, 591 7, 407 6, 991 5, 291 2021 52, 589 $ 39, '\n",
      " '872 22, 488 15, 370 10, 289 9, 267 6, 943 6, 791 4, 479 total $ 198, 270 $ '\n",
      " '168, 088 $ we')\n",
      "\n",
      "> docs/microsoft-ar-2022.pdf\n",
      "('in millions ) year ended june 30, united states ( a ) other countries $ 2022 '\n",
      " '100, 218 $ 98, 052 2021 83, 953 $ 84, 135 total $ 198, 270 $ 168, 088 $ ( a '\n",
      " ') includes billings to oems and certain multinational organizations because '\n",
      " 'of the nature of these businesses and the impracticability of determining '\n",
      " 'the geographic source of the revenue. 94 2020 46, 398 48, 366 48, 251 143, '\n",
      " '015 18, 724 18, 324 15, 911 52, 959 2020 73, 160 69, 855 143, 015 part ii '\n",
      " 'item 8 revenue, classified by significant product and service offerings, was '\n",
      " 'as follows : ( in millions ) year ended june 30, server products and cloud '\n",
      " 'services office products and cloud services windows gaming linkedin search '\n",
      " 'and news advertising enterprise services devices other $ 2022 67, 321 $ 44, '\n",
      " '862 24, 761 16, 230 13, 816 11, 591 7, 407 6, 991 5, 291 2021 52, 589 $ 39, '\n",
      " '872 22, 488 15, 370 10, 289 9, 267 6, 943 6, 791 4, 479 total $ 198, 270 $ '\n",
      " '168, 088 $ we')\n",
      "\n",
      "> docs/microsoft-ar-2022.pdf\n",
      "('certain jurisdictions remain subject to examination for tax years 1996 to '\n",
      " '2021, some of which are currently under audit by local tax authorities. the '\n",
      " 'resolution of each of these audits is not expected to be material to our '\n",
      " 'consolidated financial statements. note 13 — unearned revenue unearned '\n",
      " 'revenue by segment was as follows : ( in millions ) june 30, productivity '\n",
      " 'and business processes intelligent cloud more personal computing $ 2022 24, '\n",
      " '558 $ 19, 371 4, 479 total $ 48, 408 $ changes in unearned revenue were as '\n",
      " 'follows : ( in millions ) year ended june 30, 2022 balance, beginning of '\n",
      " 'period $ deferral of revenue recognition of unearned revenue balance, end of '\n",
      " 'period $ 85 2020 13, 146 ( 31 ) 647 366 ( 331 ) ( 5 ) 13, 792 2021 22, 120 '\n",
      " '17, 710 4, 311 44, 141 44, 141 110, 455 ( 106, 188 ) 48, 408 part ii item 8 '\n",
      " 'revenue allocated to remaining performance obligations, which includes '\n",
      " 'unearned revenue and amounts that will be invoiced and recognized as revenue '\n",
      " 'in future periods, was $ 193 bil')\n",
      "\n",
      "> docs/microsoft-ar-2022.pdf\n",
      "('certain jurisdictions remain subject to examination for tax years 1996 to '\n",
      " '2021, some of which are currently under audit by local tax authorities. the '\n",
      " 'resolution of each of these audits is not expected to be material to our '\n",
      " 'consolidated financial statements. note 13 — unearned revenue unearned '\n",
      " 'revenue by segment was as follows : ( in millions ) june 30, productivity '\n",
      " 'and business processes intelligent cloud more personal computing $ 2022 24, '\n",
      " '558 $ 19, 371 4, 479 total $ 48, 408 $ changes in unearned revenue were as '\n",
      " 'follows : ( in millions ) year ended june 30, 2022 balance, beginning of '\n",
      " 'period $ deferral of revenue recognition of unearned revenue balance, end of '\n",
      " 'period $ 85 2020 13, 146 ( 31 ) 647 366 ( 331 ) ( 5 ) 13, 792 2021 22, 120 '\n",
      " '17, 710 4, 311 44, 141 44, 141 110, 455 ( 106, 188 ) 48, 408 part ii item 8 '\n",
      " 'revenue allocated to remaining performance obligations, which includes '\n",
      " 'unearned revenue and amounts that will be invoiced and recognized as revenue '\n",
      " 'in future periods, was $ 193 bil')\n",
      "----------------------------------SOURCE DOCUMENTS---------------------------\n"
     ]
    }
   ],
   "source": [
    "from pprint import pprint\n",
    "\n",
    "# Print question, answer, and evaluations\n",
    "print(\"\\n\\n> Question:\")\n",
    "pprint(query)\n",
    "print(\"\\n> Answer:\")\n",
    "pprint(response)\n",
    "print(\"\\n> Eval:\")\n",
    "pprint(evals)\n",
    "\n",
    "# Print the relevant sources used for the answer\n",
    "print(\"----------------------------------SOURCE DOCUMENTS---------------------------\")\n",
    "for document in docs:\n",
    "    print(\"\\n> \" + document.metadata[\"source\"])\n",
    "    pprint(document.page_content[:1000])\n",
    "print(\"----------------------------------SOURCE DOCUMENTS---------------------------\")"
   ]
  },
  {
   "cell_type": "code",
   "execution_count": null,
   "id": "30ac909f-68f8-4df0-9670-b70d23281bdf",
   "metadata": {},
   "outputs": [
    {
     "name": "stdout",
     "output_type": "stream",
     "text": [
      "Running on local URL:  http://127.0.0.1:7860\n"
     ]
    },
    {
     "name": "stderr",
     "output_type": "stream",
     "text": [
      "huggingface/tokenizers: The current process just got forked, after parallelism has already been used. Disabling parallelism to avoid deadlocks...\n",
      "To disable this warning, you can either:\n",
      "\t- Avoid using `tokenizers` before the fork if possible\n",
      "\t- Explicitly set the environment variable TOKENIZERS_PARALLELISM=(true | false)\n"
     ]
    },
    {
     "name": "stdout",
     "output_type": "stream",
     "text": [
      "Running on public URL: https://41bd5f6b511b6fc36a.gradio.live\n",
      "\n",
      "This share link expires in 72 hours. For free permanent hosting and GPU upgrades, run `gradio deploy` from Terminal to deploy to Spaces (https://huggingface.co/spaces)\n"
     ]
    },
    {
     "data": {
      "text/html": [
       "<div><iframe src=\"https://41bd5f6b511b6fc36a.gradio.live\" width=\"100%\" height=\"500\" allow=\"autoplay; camera; microphone; clipboard-read; clipboard-write;\" frameborder=\"0\" allowfullscreen></iframe></div>"
      ],
      "text/plain": [
       "<IPython.core.display.HTML object>"
      ]
     },
     "metadata": {},
     "output_type": "display_data"
    }
   ],
   "source": [
    "def get_response_from_query(db, query):\n",
    "\n",
    "    # embed query, find k nearest docs, combine docs\n",
    "    query_embedding = embeddings.embed_query(query)\n",
    "    docs = db.similarity_search_by_vector(query_embedding)\n",
    "    docs_page_content = \" \".join([d.page_content for d in docs])\n",
    "\n",
    "\n",
    "    # generate LLM answer based on similar docs\n",
    "    prompt = PromptTemplate(\n",
    "        input_variables=[\"question\", \"docs\"],\n",
    "        template=\"\"\"\n",
    "      This bot engages in discussions on a wide range of topics, including cultural, philosophical, and political matters. It analyzes provided articles to inform its responses. Please adhere to the truth. If no resources are available, share your personal opinion.\n",
    "\n",
    "      Question to be answered: {question}\n",
    "\n",
    "      Referenced articles for analysis: {docs}\n",
    "\n",
    "      Instructions for the bot:\n",
    "      1. Extract and use only factual information from the specified documents.\n",
    "      2. Highlight key phrases and evidence from the articles to support your answers.\n",
    "      3. If the articles do not sufficiently cover the topic to provide an informed response, please state, \"I don't have enough information to answer this question.\"\n",
    "\n",
    "      Remember, the goal is to provide well-informed, accurate, and thoughtful responses based on the available resources. If personal opinion is necessary due to a lack of information, it should be clearly identified as such.\n",
    "      \"\"\"\n",
    "      ,\n",
    "    )\n",
    "\n",
    "    chain = LLMChain(llm=llm, prompt=prompt)\n",
    "    response = chain.run(question=query, docs=docs_page_content,return_source_documents=True)\n",
    "    r_text = str(response)\n",
    "\n",
    "    # use LLM to evaluate answer\n",
    "    prompt_eval = PromptTemplate(\n",
    "        input_variables=[\"answer\", \"docs\"],\n",
    "        template=\"\"\"\n",
    "          Your task is to assess whether the provided response accurately and faithfully reflects the context of a given question or statement.\n",
    "\n",
    "          Evaluate the following response: {answer}\n",
    "          Reference article for evaluation: {docs}\n",
    "\n",
    "          Instructions for the evaluation:\n",
    "          1. Start your evaluation with a clear \"Yes\" or \"No\" to indicate if the response is faithful to the context provided by the reference article.\n",
    "          2. Provide a detailed reason for your judgment. Mention specific aspects of the response and the article that support your evaluation. Highlight any direct correlations, discrepancies, or notable omissions in the response compared to the factual content of the article.\n",
    "          3. If the response incorporates elements not found in the article but remains relevant and truthful to the broader topic, please acknowledge this as a factor in your assessment.\n",
    "\n",
    "          Your evaluation should focus on the accuracy, relevance, and completeness of the response in relation to the information presented in the referenced article. This ensures a thorough and reasoned assessment of the response's faithfulness to the context.\n",
    "          \"\"\"\n",
    "          ,\n",
    "    )\n",
    "\n",
    "    chain_part_2 = LLMChain(llm=llm, prompt=prompt_eval)\n",
    "    evals = chain_part_2.run(answer=r_text, docs=docs_page_content)\n",
    "\n",
    "    return response,docs,evals\n",
    "\n",
    "\n",
    "import gradio as gr\n",
    "\n",
    "def greet(query):\n",
    "    answer,sources,evals = get_response_from_query(db,query)\n",
    "    return answer,sources,evals\n",
    "\n",
    "\n",
    "demo = gr.Interface(fn=greet,\n",
    "                    title=\"Local-RAG\",\n",
    "                    inputs=[\"text\"],\n",
    "                    outputs=[gr.components.Textbox(lines=3, label=\"Response\"),\n",
    "                             gr.components.Textbox(lines=3, label=\"Source\"),\n",
    "                             gr.components.Textbox(lines=3, label=\"Evaluation\")],\n",
    "                   )\n",
    "\n",
    "demo.launch(share=True, debug=True)"
   ]
  },
  {
   "cell_type": "code",
   "execution_count": null,
   "id": "0ab6dd15-6be4-4ffb-a7bf-faedca7c86cb",
   "metadata": {},
   "outputs": [],
   "source": []
  }
 ],
 "metadata": {
  "kernelspec": {
   "display_name": "Python 3 (ipykernel)",
   "language": "python",
   "name": "python3"
  },
  "language_info": {
   "codemirror_mode": {
    "name": "ipython",
    "version": 3
   },
   "file_extension": ".py",
   "mimetype": "text/x-python",
   "name": "python",
   "nbconvert_exporter": "python",
   "pygments_lexer": "ipython3",
   "version": "3.11.4"
  }
 },
 "nbformat": 4,
 "nbformat_minor": 5
}
